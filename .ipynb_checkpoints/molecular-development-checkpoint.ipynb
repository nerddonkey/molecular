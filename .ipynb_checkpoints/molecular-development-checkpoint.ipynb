{
 "cells": [
  {
   "cell_type": "code",
   "execution_count": null,
   "metadata": {
    "collapsed": false
   },
   "outputs": [],
   "source": [
    "# using Images, Colors, FixedPointNumbers, ImageView\n",
    "# using ImageMagick"
   ]
  },
  {
   "cell_type": "code",
   "execution_count": 1,
   "metadata": {
    "collapsed": false
   },
   "outputs": [
    {
     "name": "stderr",
     "output_type": "stream",
     "text": [
      "2016-01-16 10:19:39.113 julia[88978:2201046] *** WARNING: Method userSpaceScaleFactor in class NSView is deprecated on 10.7 and later. It should not be used in new applications. Use convertRectToBacking: instead. \n"
     ]
    }
   ],
   "source": [
    "using PyCall\n",
    "@pyimport mayavi.mlab as mlab\n",
    "\n",
    "pygui_start(:qt) # make mayavi non-blocking\n",
    "\n",
    "mlab.figure(1, bgcolor=(1, 1, 1), fgcolor=(0, 0, 0), size=(1000, 800));"
   ]
  },
  {
   "cell_type": "code",
   "execution_count": 2,
   "metadata": {
    "collapsed": false
   },
   "outputs": [
    {
     "data": {
      "text/plain": [
       "ndgrid (generic function with 3 methods)"
      ]
     },
     "execution_count": 2,
     "metadata": {},
     "output_type": "execute_result"
    }
   ],
   "source": [
    "include(\"ndgrid_rak.jl\")"
   ]
  },
  {
   "cell_type": "code",
   "execution_count": 3,
   "metadata": {
    "collapsed": false
   },
   "outputs": [],
   "source": [
    "num = 50\n",
    "x = linspace(-10.0,10.0,num)\n",
    "y = linspace(-10.0,10.0,num)\n",
    "z = linspace(-10.0,10.0,num)\n",
    "nothing"
   ]
  },
  {
   "cell_type": "code",
   "execution_count": 4,
   "metadata": {
    "collapsed": false
   },
   "outputs": [],
   "source": [
    "X, Y, Z = ndgrid(x, y, z)\n",
    "\n",
    "# create a 3D phantom\n",
    "S1 = 300./(X.^2+2.0*Y.^2+0.5*Z.^2+3.0)+\n",
    "    200./(0.5*(X-2.5).^2+0.5*Y.^2+0.5*Z.^2+1.0);"
   ]
  },
  {
   "cell_type": "code",
   "execution_count": 5,
   "metadata": {
    "collapsed": true
   },
   "outputs": [],
   "source": [
    "# S2 = 150./(0.5*(X-5).^2+0.5*(Y-5).^2+0.5*(Z-5).^2+1.0);"
   ]
  },
  {
   "cell_type": "code",
   "execution_count": 6,
   "metadata": {
    "collapsed": false
   },
   "outputs": [],
   "source": [
    "# function f(x)\n",
    "#     if abs(x)<5.0 x=0.0 end\n",
    "#     return x\n",
    "# end\n",
    "# nothing\n",
    "\n",
    "# map!((x) -> f(x) , S);"
   ]
  },
  {
   "cell_type": "code",
   "execution_count": 9,
   "metadata": {
    "collapsed": false
   },
   "outputs": [
    {
     "data": {
      "text/plain": [
       "PyObject <mayavi.modules.iso_surface.IsoSurface object at 0x3293062f0>"
      ]
     },
     "execution_count": 9,
     "metadata": {},
     "output_type": "execute_result"
    }
   ],
   "source": [
    "isosurf = mlab.contour3d(S1, vmin=0.0, colormap=\"cool\", transparent=true)"
   ]
  },
  {
   "cell_type": "code",
   "execution_count": 11,
   "metadata": {
    "collapsed": false
   },
   "outputs": [],
   "source": [
    "isosurf[:contour][:number_of_contours] = 12\n",
    "isosurf[:actor][:property][:opacity] = 0.3\n",
    "isosurf[:contour][:minimum_contour] = 20.0\n",
    "isosurf[:contour][:maximum_contour] = maximum(S1)\n",
    "mlab.draw()"
   ]
  },
  {
   "cell_type": "code",
   "execution_count": 7,
   "metadata": {
    "collapsed": false
   },
   "outputs": [],
   "source": [
    "for i=4:0.025:2\n",
    "    mlab.clf()\n",
    "    S2 = 150./(0.5*(X-1.0*i).^2+0.5*(Y-1.0*i).^2+0.5*(Z-1.0*i).^2+1.0);\n",
    "    S = S1 + S2\n",
    "    isosurf = mlab.contour3d(S, vmin=0.0, colormap=\"cool\", transparent=true)\n",
    "\n",
    "    isosurf[:contour][:number_of_contours] = 12\n",
    "    isosurf[:actor][:property][:opacity] = 0.3\n",
    "    isosurf[:contour][:minimum_contour] = 20.0\n",
    "    isosurf[:contour][:maximum_contour] = maximum(S)\n",
    "    mlab.draw()\n",
    "    sleep(0.02)\n",
    "end\n",
    "nothing"
   ]
  },
  {
   "cell_type": "raw",
   "metadata": {},
   "source": [
    "display(\"image/png\", \"grace.png\")"
   ]
  },
  {
   "cell_type": "code",
   "execution_count": null,
   "metadata": {
    "collapsed": false
   },
   "outputs": [],
   "source": [
    "# a=Images.load(\"grace.png\")"
   ]
  },
  {
   "cell_type": "code",
   "execution_count": null,
   "metadata": {
    "collapsed": false
   },
   "outputs": [],
   "source": [
    "# img = testimage(\"mandrill\")"
   ]
  },
  {
   "cell_type": "code",
   "execution_count": 1,
   "metadata": {
    "collapsed": false
   },
   "outputs": [],
   "source": [
    "# ;ls -la"
   ]
  },
  {
   "cell_type": "code",
   "execution_count": 8,
   "metadata": {
    "collapsed": false
   },
   "outputs": [
    {
     "ename": "LoadError",
     "evalue": "LoadError: UndefVarError: S2 not defined\nwhile loading In[8], in expression starting on line 1",
     "output_type": "error",
     "traceback": [
      "LoadError: UndefVarError: S2 not defined\nwhile loading In[8], in expression starting on line 1",
      ""
     ]
    }
   ],
   "source": [
    "S = S1 + S2"
   ]
  },
  {
   "cell_type": "code",
   "execution_count": null,
   "metadata": {
    "collapsed": true
   },
   "outputs": [],
   "source": []
  }
 ],
 "metadata": {
  "kernelspec": {
   "display_name": "Julia 0.4.3",
   "language": "julia",
   "name": "julia-0.4"
  },
  "language_info": {
   "file_extension": ".jl",
   "mimetype": "application/julia",
   "name": "julia",
   "version": "0.4.3"
  }
 },
 "nbformat": 4,
 "nbformat_minor": 0
}
