{
 "cells": [
  {
   "cell_type": "code",
   "execution_count": 4,
   "metadata": {
    "collapsed": false
   },
   "outputs": [],
   "source": [
    "using PyCall\n",
    "@pyimport mayavi.mlab as mlab\n",
    "\n",
    "pygui_start(:qt) # make mayavi non-blocking\n",
    "\n",
    "fig = mlab.figure(\"molecular\", bgcolor=(0.25, 0.25, 0.25), fgcolor=(0, 0, 0), size=(800, 800))\n",
    "scene = mlab.gcf()[:scene]\n",
    "scene[:magnification] = 2\n",
    "camera = scene[:camera]\n",
    "scene[:light_manager][:light_mode] = \"raymond\"#vtk\"\n",
    "\n",
    "# scene[:show_axes] = true\n",
    "nothing"
   ]
  },
  {
   "cell_type": "code",
   "execution_count": 5,
   "metadata": {
    "collapsed": false
   },
   "outputs": [
    {
     "name": "stdout",
     "output_type": "stream",
     "text": [
      "2.0158353558865425 20.0:20.0:320.0 338.25552560129034 \n",
      "1:16 16\n"
     ]
    }
   ],
   "source": [
    "include(\"ndgrid_rak.jl\")\n",
    "\n",
    "num = 80\n",
    "lim = 12.0\n",
    "x = linspace(-lim, lim, num)\n",
    "y = linspace(-lim,lim, num)\n",
    "z = linspace(-lim,  lim, num)\n",
    "\n",
    "X, Y, Z = ndgrid(x, y, z)\n",
    "\n",
    "# create a 3D phantom\n",
    "P1 = 3./(X.^2+2.0*Y.^2+0.5*Z.^2+1.0)\n",
    "P2 = 3./(1.5*(X-3.5).^2+0.5*Y.^2+0.5*Z.^2+1.0);\n",
    "P3 = 3./(0.25*(X-5).^2+0.25*(Y-4.0).^2+1.0*(Z-3).^2+1.0);\n",
    "P0 = 100.0 * (P1 + P2 + P3)\n",
    "inc_cont = 20.0\n",
    "min_quant = round(Int, div(minimum(P0), inc_cont) + 1)\n",
    "max_quant = round(Int, div(maximum(P0), inc_cont))\n",
    "println(\"$(minimum(P0)) $(min_quant * inc_cont):$(inc_cont):$(max_quant * inc_cont) $(maximum(P0)) \")\n",
    "println(\"$(min_quant):$(max_quant) $(max_quant - min_quant + 1)\")\n",
    "sleep(0.1)"
   ]
  },
  {
   "cell_type": "code",
   "execution_count": 6,
   "metadata": {
    "collapsed": false
   },
   "outputs": [
    {
     "data": {
      "text/plain": [
       "\"wireframe\""
      ]
     },
     "execution_count": 6,
     "metadata": {},
     "output_type": "execute_result"
    }
   ],
   "source": [
    "P = P0\n",
    "typeno = 2\n",
    "mlab.clf()\n",
    "\n",
    "if typeno==1\n",
    "    isosurf = mlab.contour3d(P, vmin=0.0, colormap=\"cool\", transparent=true) #\"YlGnBu\"\n",
    "    isosurf[:module_manager][:scalar_lut_manager][:reverse_lut] = false\n",
    "    isosurf[:actor][:property][:opacity] = 0.3\n",
    "    isosurf[:contour][:minimum_contour] = min_quant * inc_cont\n",
    "    isosurf[:contour][:maximum_contour] = max_quant * inc_cont\n",
    "    isosurf[:contour][:number_of_contours] = max_quant - min_quant + 1\n",
    "    mlab.view(azimuth=30, elevation=65, distance=\"auto\")\n",
    "    camera[:zoom](1.25)\n",
    "    mlab.outline(opacity=0.2, line_width=5.0, color=(0.5,0.5,0.5))\n",
    "#     mlab.draw()\n",
    "\n",
    "    for i=0:10\n",
    "        dx = i*0.02\n",
    "        P2 = 3./(1.5*(X-3.5-4*dx).^2+0.5*Y.^2+0.5*Z.^2+1.0);\n",
    "        P3 = 3./(0.25*(X-4-dx).^2+0.25*(Y-4.0-dx).^2+1.0*(Z-3).^2+1.0);\n",
    "        P = 100.0 * (P1*(1+5*dx) + P2 + P3)\n",
    "        sleep(0.01)\n",
    "        isosurf[:mlab_source][:scalars] = P\n",
    "#         mlab.draw()\n",
    "        if i==0 sleep(2.0) end\n",
    "    end\n",
    "elseif typeno==2\n",
    "    src = mlab.pipeline[:scalar_field](P)\n",
    "    mlab.pipeline[:iso_surface](src,\n",
    "    contours=40.0:20.0:120.0, opacity=0.1, colormap=\"cool\", transparent=true)\n",
    "    \n",
    "    mlab.pipeline[:iso_surface](src,\n",
    "    contours=140.0:20.0:320.0, opacity=0.2, colormap=\"cool\")\n",
    "    \n",
    "    wall_iso = mlab.pipeline[:iso_surface](src,\n",
    "        contours=40.0:40.0,\n",
    "        opacity=0.03,\n",
    "        line_width=0.2,\n",
    "        color=(0,0,0))\n",
    "    wall_iso[:actor][:property][:representation] = \"wireframe\"\n",
    "else\n",
    "    src = mlab.pipeline[:scalar_field](P)\n",
    "    mlab.pipeline[:volume](src, vmin=min=40.0)\n",
    "    mlab.pipeline[:iso_surface](src,\n",
    "    contours=linspace(140.0,320.0,10), opacity=0.5, colormap=\"cool\")\n",
    "end\n",
    "\n",
    "# mlab.draw()"
   ]
  },
  {
   "cell_type": "code",
   "execution_count": 9,
   "metadata": {
    "collapsed": false,
    "scrolled": true
   },
   "outputs": [],
   "source": [
    "mlab.savefig(\"molsnap.png\")"
   ]
  },
  {
   "cell_type": "markdown",
   "metadata": {},
   "source": [
    "![](molsnap.png)"
   ]
  },
  {
   "cell_type": "code",
   "execution_count": null,
   "metadata": {
    "collapsed": true
   },
   "outputs": [],
   "source": []
  }
 ],
 "metadata": {
  "kernelspec": {
   "display_name": "Julia 0.4.3",
   "language": "julia",
   "name": "julia-0.4"
  },
  "language_info": {
   "file_extension": ".jl",
   "mimetype": "application/julia",
   "name": "julia",
   "version": "0.4.3"
  }
 },
 "nbformat": 4,
 "nbformat_minor": 0
}
