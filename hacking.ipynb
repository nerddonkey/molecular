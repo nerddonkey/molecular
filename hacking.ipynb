{
 "cells": [
  {
   "cell_type": "code",
   "execution_count": 11,
   "metadata": {
    "collapsed": false
   },
   "outputs": [],
   "source": [
    "using PyCall\n",
    "@pyimport mayavi.mlab as mlab\n",
    "\n",
    "pygui_start(:qt) # make mayavi non-blocking\n",
    "\n",
    "fig = mlab.figure(1, bgcolor=(1, 1, 1), fgcolor=(0, 0, 0), size=(1000, 800));\n",
    "scene = mlab.gcf()[:scene]\n",
    "scene[:show_axes] = true\n",
    "nothing"
   ]
  },
  {
   "cell_type": "code",
   "execution_count": 21,
   "metadata": {
    "collapsed": false
   },
   "outputs": [
    {
     "data": {
      "text/plain": [
       "(2.0158353558865425,340.0145795423466)"
      ]
     },
     "execution_count": 21,
     "metadata": {},
     "output_type": "execute_result"
    }
   ],
   "source": [
    "include(\"ndgrid_rak.jl\")\n",
    "\n",
    "num = 100\n",
    "Δ = 12.0\n",
    "x = linspace(-Δ,Δ,num)\n",
    "y = linspace(-Δ,Δ,num)\n",
    "z = linspace(-Δ,Δ,num)\n",
    "nothing\n",
    "\n",
    "X, Y, Z = ndgrid(x, y, z)\n",
    "\n",
    "# create a 3D phantom\n",
    "P1 = 3./(X.^2+2.0*Y.^2+0.5*Z.^2+1.0)\n",
    "P2 = 3./(1.5*(X-3.5).^2+0.5*Y.^2+0.5*Z.^2+1.0);\n",
    "P3 = 3./(0.25*(X-5).^2+0.25*(Y-4.0).^2+1.0*(Z-3).^2+1.0);\n",
    "P = 100.0 * (P1 + P2 + P3)\n",
    "minimum(P), maximum(P)"
   ]
  },
  {
   "cell_type": "code",
   "execution_count": 22,
   "metadata": {
    "collapsed": false
   },
   "outputs": [],
   "source": [
    "mlab.clf()\n",
    "\n",
    "typeno = 2\n",
    "\n",
    "if typeno==1\n",
    "    isosurf = mlab.contour3d(P,\n",
    "                             vmin=0.0,\n",
    "                             colormap=\"cool\",\n",
    "                             transparent=true)\n",
    "    isosurf[:actor][:property][:opacity] = 0.2\n",
    "    isosurf[:contour][:minimum_contour] = 20.0\n",
    "    max_cont = 20.0 * div(maximum(P),20.0)\n",
    "    println(\"$(max_cont)\")\n",
    "    isosurf[:contour][:maximum_contour] = max_cont\n",
    "    isosurf[:contour][:number_of_contours] = round(Int64, max_cont/20.0)\n",
    "else\n",
    "    src = mlab.pipeline[:scalar_field](P)\n",
    "    mlab.pipeline[:iso_surface](src,\n",
    "    contours=40.0:20.0:120.0, opacity=0.1, colormap=\"cool\", transparent=true)\n",
    "    \n",
    "    mlab.pipeline[:iso_surface](src,\n",
    "    contours=linspace(140.0,320.0,10), opacity=0.5, colormap=\"cool\")\n",
    "    \n",
    "#     wall_iso = mlab.pipeline[:iso_surface](src,\n",
    "#         contours=40.0:40.0,\n",
    "#         opacity=0.3,\n",
    "#         line_width=0.2,\n",
    "#         color=(0,0,0))\n",
    "#     wall_iso[:actor][:property][:representation] = \"wireframe\"\n",
    "end\n",
    "mlab.draw()"
   ]
  },
  {
   "cell_type": "raw",
   "metadata": {},
   "source": [
    "http://stackoverflow.com/questions/6030098/how-to-display-a-3d-plot-of-a-3d-array-isosurface-in-matplotlib-mplot3d-or-simil\n",
    "\n",
    "import numpy as np\n",
    "from enthought.mayavi import mlab\n",
    "\n",
    "x, y, z = np.ogrid[-10:10:20j, -10:10:20j, -10:10:20j]\n",
    "s = np.sin(x*y*z)/(x*y*z)\n",
    "\n",
    "src = mlab.pipeline.scalar_field(s)\n",
    "mlab.pipeline.iso_surface(src, contours=[s.min()+0.1*s.ptp(), ], opacity=0.3)\n",
    "mlab.pipeline.iso_surface(src, contours=[s.max()-0.1*s.ptp(), ],)\n",
    "\n",
    "mlab.show()\n",
    "\n",
    "http://www.sethanil.com/python-for-reseach/5\n",
    "import numpy as np\n",
    "x,y,z = np.mgrid[-3:3:100j, -3:3:100j, -3:3:100j]\n",
    "a = 0.7\n",
    "a0 = 0.53\n",
    "r1=np.sqrt((x-a)**2 + y**2 + z**2)\n",
    "r2= np.sqrt((x+a)**2 + y**2 + z**2)\n",
    "values = np.exp(-r1/a0) + np.exp(-r2/a0)\n",
    "from enthought.mayavi import mlab\n",
    "source = mlab.pipeline.scalar_field(values)\n",
    "min = values.min()\n",
    "max=values.max()\n",
    "mlab.pipeline.volume(source,vmin=min, vmax=min + .5*(max-min))\n",
    "mlab.show()"
   ]
  },
  {
   "cell_type": "code",
   "execution_count": 10,
   "metadata": {
    "collapsed": false
   },
   "outputs": [],
   "source": [
    "# using Images, Colors, FixedPointNumbers, ImageView\n",
    "# using ImageMagick"
   ]
  },
  {
   "cell_type": "raw",
   "metadata": {},
   "source": [
    "display(\"image/png\", \"grace.png\")"
   ]
  },
  {
   "cell_type": "code",
   "execution_count": null,
   "metadata": {
    "collapsed": false
   },
   "outputs": [],
   "source": [
    "# a=Images.load(\"grace.png\")"
   ]
  },
  {
   "cell_type": "code",
   "execution_count": null,
   "metadata": {
    "collapsed": false
   },
   "outputs": [],
   "source": [
    "# img = testimage(\"mandrill\")"
   ]
  },
  {
   "cell_type": "code",
   "execution_count": null,
   "metadata": {
    "collapsed": false
   },
   "outputs": [],
   "source": [
    "# ;ls -la"
   ]
  },
  {
   "cell_type": "code",
   "execution_count": null,
   "metadata": {
    "collapsed": true
   },
   "outputs": [],
   "source": []
  }
 ],
 "metadata": {
  "kernelspec": {
   "display_name": "Julia 0.4.3",
   "language": "julia",
   "name": "julia-0.4"
  },
  "language_info": {
   "file_extension": ".jl",
   "mimetype": "application/julia",
   "name": "julia",
   "version": "0.4.3"
  }
 },
 "nbformat": 4,
 "nbformat_minor": 0
}
